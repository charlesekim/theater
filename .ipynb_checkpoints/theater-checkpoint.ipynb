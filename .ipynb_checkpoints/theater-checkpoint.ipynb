{
 "cells": [
  {
   "cell_type": "code",
   "execution_count": 1,
   "id": "8f98ab38",
   "metadata": {},
   "outputs": [],
   "source": [
    "import pandas as pd\n",
    "import numpy as np\n",
    "import math\n",
    "import random\n",
    "import os"
   ]
  },
  {
   "cell_type": "code",
   "execution_count": 2,
   "id": "57395650",
   "metadata": {},
   "outputs": [],
   "source": [
    "cwd = os.getcwd()\n",
    "data_dir = cwd + '\\Data'"
   ]
  },
  {
   "cell_type": "code",
   "execution_count": 3,
   "id": "054fa043",
   "metadata": {},
   "outputs": [],
   "source": []
  },
  {
   "cell_type": "code",
   "execution_count": 4,
   "id": "edc53140",
   "metadata": {},
   "outputs": [],
   "source": [
    "dataset_names = []\n",
    "datasets = []\n",
    "for f in os.listdir(data_dir):\n",
    "    if f.endswith(\".csv\"):\n",
    "        dataset_names.append(f)\n",
    "        datasets.append(pd.read_csv(data_dir + \"\\\\\" + f))"
   ]
  },
  {
   "cell_type": "code",
   "execution_count": 5,
   "id": "0c9f42b4",
   "metadata": {},
   "outputs": [
    {
     "data": {
      "text/plain": [
       "['AnnualTicketSales.csv',\n",
       " 'HighestGrossers.csv',\n",
       " 'PopularCreativeTypes.csv',\n",
       " 'TopDistributors.csv',\n",
       " 'TopGenres.csv',\n",
       " 'TopGrossingRatings.csv',\n",
       " 'TopGrossingSources.csv',\n",
       " 'TopProductionMethods.csv',\n",
       " 'WideReleasesCount.csv']"
      ]
     },
     "execution_count": 5,
     "metadata": {},
     "output_type": "execute_result"
    }
   ],
   "source": [
    "dataset_names"
   ]
  },
  {
   "cell_type": "code",
   "execution_count": 12,
   "id": "1c8526d6",
   "metadata": {},
   "outputs": [
    {
     "data": {
      "text/html": [
       "<div>\n",
       "<style scoped>\n",
       "    .dataframe tbody tr th:only-of-type {\n",
       "        vertical-align: middle;\n",
       "    }\n",
       "\n",
       "    .dataframe tbody tr th {\n",
       "        vertical-align: top;\n",
       "    }\n",
       "\n",
       "    .dataframe thead th {\n",
       "        text-align: right;\n",
       "    }\n",
       "</style>\n",
       "<table border=\"1\" class=\"dataframe\">\n",
       "  <thead>\n",
       "    <tr style=\"text-align: right;\">\n",
       "      <th></th>\n",
       "      <th>RANK</th>\n",
       "      <th>CREATIVE TYPES</th>\n",
       "      <th>MOVIES</th>\n",
       "      <th>TOTAL GROSS</th>\n",
       "      <th>AVERAGE GROSS</th>\n",
       "      <th>MARKET SHARE</th>\n",
       "    </tr>\n",
       "  </thead>\n",
       "  <tbody>\n",
       "    <tr>\n",
       "      <th>0</th>\n",
       "      <td>1.0</td>\n",
       "      <td>Contemporary Fiction</td>\n",
       "      <td>7,442</td>\n",
       "      <td>$96,203,727,036</td>\n",
       "      <td>$12,927,133</td>\n",
       "      <td>40.46%</td>\n",
       "    </tr>\n",
       "    <tr>\n",
       "      <th>1</th>\n",
       "      <td>2.0</td>\n",
       "      <td>Kids Fiction</td>\n",
       "      <td>564</td>\n",
       "      <td>$32,035,539,746</td>\n",
       "      <td>$56,800,602</td>\n",
       "      <td>13.47%</td>\n",
       "    </tr>\n",
       "    <tr>\n",
       "      <th>2</th>\n",
       "      <td>3.0</td>\n",
       "      <td>Science Fiction</td>\n",
       "      <td>724</td>\n",
       "      <td>$29,922,660,857</td>\n",
       "      <td>$41,329,642</td>\n",
       "      <td>12.59%</td>\n",
       "    </tr>\n",
       "    <tr>\n",
       "      <th>3</th>\n",
       "      <td>4.0</td>\n",
       "      <td>Fantasy</td>\n",
       "      <td>759</td>\n",
       "      <td>$21,724,062,575</td>\n",
       "      <td>$28,621,953</td>\n",
       "      <td>9.14%</td>\n",
       "    </tr>\n",
       "    <tr>\n",
       "      <th>4</th>\n",
       "      <td>5.0</td>\n",
       "      <td>Super Hero</td>\n",
       "      <td>129</td>\n",
       "      <td>$20,273,157,911</td>\n",
       "      <td>$157,156,263</td>\n",
       "      <td>8.53%</td>\n",
       "    </tr>\n",
       "    <tr>\n",
       "      <th>5</th>\n",
       "      <td>6.0</td>\n",
       "      <td>Historical Fiction</td>\n",
       "      <td>1,487</td>\n",
       "      <td>$18,521,260,744</td>\n",
       "      <td>$12,455,454</td>\n",
       "      <td>7.79%</td>\n",
       "    </tr>\n",
       "    <tr>\n",
       "      <th>6</th>\n",
       "      <td>7.0</td>\n",
       "      <td>Dramatization</td>\n",
       "      <td>1,175</td>\n",
       "      <td>$15,715,191,699</td>\n",
       "      <td>$13,374,631</td>\n",
       "      <td>6.61%</td>\n",
       "    </tr>\n",
       "    <tr>\n",
       "      <th>7</th>\n",
       "      <td>8.0</td>\n",
       "      <td>Factual</td>\n",
       "      <td>2,467</td>\n",
       "      <td>$2,960,327,207</td>\n",
       "      <td>$1,199,970</td>\n",
       "      <td>1.25%</td>\n",
       "    </tr>\n",
       "    <tr>\n",
       "      <th>8</th>\n",
       "      <td>9.0</td>\n",
       "      <td>Multiple Creative Types</td>\n",
       "      <td>42</td>\n",
       "      <td>$117,574,526</td>\n",
       "      <td>$2,799,393</td>\n",
       "      <td>0.05%</td>\n",
       "    </tr>\n",
       "    <tr>\n",
       "      <th>9</th>\n",
       "      <td>NaN</td>\n",
       "      <td>NaN</td>\n",
       "      <td>NaN</td>\n",
       "      <td>NaN</td>\n",
       "      <td>NaN</td>\n",
       "      <td>NaN</td>\n",
       "    </tr>\n",
       "  </tbody>\n",
       "</table>\n",
       "</div>"
      ],
      "text/plain": [
       "   RANK           CREATIVE TYPES MOVIES      TOTAL GROSS AVERAGE GROSS  \\\n",
       "0   1.0     Contemporary Fiction  7,442  $96,203,727,036   $12,927,133   \n",
       "1   2.0             Kids Fiction    564  $32,035,539,746   $56,800,602   \n",
       "2   3.0          Science Fiction    724  $29,922,660,857   $41,329,642   \n",
       "3   4.0                  Fantasy    759  $21,724,062,575   $28,621,953   \n",
       "4   5.0               Super Hero    129  $20,273,157,911  $157,156,263   \n",
       "5   6.0       Historical Fiction  1,487  $18,521,260,744   $12,455,454   \n",
       "6   7.0            Dramatization  1,175  $15,715,191,699   $13,374,631   \n",
       "7   8.0                  Factual  2,467   $2,960,327,207    $1,199,970   \n",
       "8   9.0  Multiple Creative Types     42     $117,574,526    $2,799,393   \n",
       "9   NaN                      NaN    NaN              NaN           NaN   \n",
       "\n",
       "  MARKET SHARE  \n",
       "0       40.46%  \n",
       "1       13.47%  \n",
       "2       12.59%  \n",
       "3        9.14%  \n",
       "4        8.53%  \n",
       "5        7.79%  \n",
       "6        6.61%  \n",
       "7        1.25%  \n",
       "8        0.05%  \n",
       "9          NaN  "
      ]
     },
     "execution_count": 12,
     "metadata": {},
     "output_type": "execute_result"
    }
   ],
   "source": [
    "datasets[2]"
   ]
  },
  {
   "cell_type": "code",
   "execution_count": null,
   "id": "c7e3da99",
   "metadata": {},
   "outputs": [],
   "source": []
  },
  {
   "cell_type": "code",
   "execution_count": null,
   "id": "2bc477e8",
   "metadata": {},
   "outputs": [],
   "source": []
  }
 ],
 "metadata": {
  "kernelspec": {
   "display_name": "Python 3",
   "language": "python",
   "name": "python3"
  },
  "language_info": {
   "codemirror_mode": {
    "name": "ipython",
    "version": 3
   },
   "file_extension": ".py",
   "mimetype": "text/x-python",
   "name": "python",
   "nbconvert_exporter": "python",
   "pygments_lexer": "ipython3",
   "version": "3.8.8"
  }
 },
 "nbformat": 4,
 "nbformat_minor": 5
}
